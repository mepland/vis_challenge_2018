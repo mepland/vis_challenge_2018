{
 "cells": [
  {
   "cell_type": "markdown",
   "metadata": {},
   "source": [
    "# Graphing Duke PhD Committee Interdisciplinary Connections\n",
    "\n",
    "#### Imports and other setup\n",
    "\n",
    "set_node_attributes was not working for me with networkx 2.0 [see issue here](https://github.com/USEPA/WNTR/issues/29), so downgraded to 1.11 to get it running."
   ]
  },
  {
   "cell_type": "code",
   "execution_count": 1,
   "metadata": {},
   "outputs": [],
   "source": [
    "import math\n",
    "from itertools import cycle\n",
    "import pandas as pd\n",
    "import numpy as np\n",
    "import networkx as nx\n",
    "from visJS2jupyter import visJS_module\n",
    "import community\n",
    "import matplotlib.pyplot as plt\n",
    "from ipywidgets import interact, interactive, fixed, interact_manual\n",
    "import ipywidgets as widgets\n",
    "from operator import itemgetter\n",
    "import operator\n",
    "from ast import literal_eval\n",
    "\n",
    "# For display purposes\n",
    "%matplotlib inline\n",
    "pd.set_option('display.max_rows', 30)\n",
    "pd.set_option('display.max_columns', 8)\n",
    "pd.set_option('display.width', 800)"
   ]
  },
  {
   "cell_type": "markdown",
   "metadata": {},
   "source": [
    "#### Setup paths, \"global\" variables, etc"
   ]
  },
  {
   "cell_type": "code",
   "execution_count": 2,
   "metadata": {},
   "outputs": [],
   "source": [
    "primary_only = False\n",
    "output_path = './'\n",
    "debug = False\n",
    "# my_nrows = 200 # for testing\n",
    "my_nrows = None # run on all rows\n",
    "\n",
    "if primary_only:\n",
    "    edges_path = '../outputs/apt_primary/edges_primary_appointments.csv'\n",
    "    orgs_path = '../outputs/apt_primary/org_names_primary_appointments.csv'\n",
    "else:\n",
    "    edges_path = '../outputs/apt_all/edges_all_appointments.csv'\n",
    "    orgs_path = '../outputs/apt_all/org_names_all_appointments.csv'"
   ]
  },
  {
   "cell_type": "markdown",
   "metadata": {},
   "source": [
    "#### Define custom color functions for good discrete node colors, min / max edge colors  \n",
    "It has to be in this string format for visJS2jupyter. See [`return_node_to_color()`](https://github.com/ucsd-ccbb/visJS2jupyter/blob/master/visJS2jupyter/visJS_module.py#L558) and [`return_edge_to_color()`](https://github.com/ucsd-ccbb/visJS2jupyter/blob/master/visJS2jupyter/visJS_module.py#L605) in [visJS_module.py](https://github.com/ucsd-ccbb/visJS2jupyter/blob/master/visJS2jupyter/visJS_module.py) for the normal methods  "
   ]
  },
  {
   "cell_type": "code",
   "execution_count": 3,
   "metadata": {},
   "outputs": [],
   "source": [
    "def my_node_to_color(G,field_to_map='degree'):\n",
    "    nodes_with_data = [(n[0], max(n[1][field_to_map], 0)) for n in G.nodes(data=True)]\n",
    "\n",
    "    nsteps=20\n",
    "    color_order=[0,2,4,6,8,10,12,14,16,18,1,3,5,7,9,11,13,15,17,19]\n",
    "    cmap=plt.get_cmap(\"tab20\")\n",
    "    alpha = 1.0\n",
    "    \n",
    "    color_list_raw = cmap(np.linspace(0, 1, nsteps)) \n",
    "  \n",
    "    nodes,data = zip(*nodes_with_data)\n",
    "    data = [color_order[d] for d in data]\n",
    "    nodes_with_data = zip(nodes,data)\n",
    "\n",
    "    node_to_mapField = dict(nodes_with_data)\n",
    "    color_list = [color_list_raw[node_to_mapField[d]] for d in G.nodes()]\n",
    "    \n",
    "    color_list = [(int(256*c[0]),int(256*c[1]),int(256*c[2]),alpha) for c in color_list]\n",
    "    node_to_color = dict(zip(list(G.nodes()),['rgba'+str(c) for c in color_list]))\n",
    "\n",
    "    return node_to_color"
   ]
  },
  {
   "cell_type": "code",
   "execution_count": 4,
   "metadata": {},
   "outputs": [],
   "source": [
    "def my_edge_to_color(G,field_to_map='degree',cmap=plt.cm.jet,alpha = 1.0,color_vals_transform = None,ceil_val=10,\n",
    "                         color_max_frac = 1.0,color_min_frac = 0.0):\n",
    "    # check whether it is a multigraph or not\n",
    "    if (str(type(G)) == '<class \\'networkx.classes.multigraph.MultiGraph\\'>'):\n",
    "        G_edges = G.edges(keys = True, data=True)\n",
    "        edges_with_data = [(e[0],e[1],e[2],e[3][field_to_map]) for e in G_edges]\n",
    "        edges1,edges2,edges3, data = zip(*edges_with_data)\n",
    "    else:\n",
    "        G_edges = G.edges(data=True)\n",
    "        edges_with_data = [(e[0],e[1],e[2][field_to_map]) for e in G_edges]\n",
    "        edges1,edges2,data = zip(*edges_with_data)\n",
    "    # perform data transformations if necessaary\n",
    "    if color_vals_transform == 'log':\n",
    "        nonzero_list = [d for d in data if d>(10**-18)]\n",
    "        if not nonzero_list:\n",
    "            data = [1 for d in data]\n",
    "        else:\n",
    "            min_dn0 = min([d for d in data if d>(10**-18)])\n",
    "            data = [np.log(max(d,min_dn0)) for d in data]  # set the zero d values to minimum non0 value\n",
    "            data = [(d-np.min(data)) for d in data] # shift so we don't have any negative values\n",
    "    elif color_vals_transform == 'sqrt':\n",
    "        data = [np.sqrt(d) for d in data]\n",
    "    elif color_vals_transform == 'ceil':\n",
    "        data = [max(d,ceil_val) for d in data]\n",
    "    # check whether it is a multigraph or not\n",
    "    if (str(type(G)) == '<class \\'networkx.classes.multigraph.MultiGraph\\'>'):\n",
    "        edges_with_data = zip(zip(edges1,edges2,edges3),data)\n",
    "        G_edges = G.edges(keys = True)\n",
    "    else:\n",
    "        G_edges = G.edges()\n",
    "        edges_with_data = zip(zip(edges1,edges2),data)\n",
    "    \n",
    "    color_to_mult = 256*(color_max_frac-color_min_frac)\n",
    "    color_to_add = 256*color_min_frac\n",
    "\n",
    "    edge_to_mapField = dict(edges_with_data)\n",
    "#    color_list = [np.multiply(cmap(int(float(edge_to_mapField[d])/np.max(list(edge_to_mapField.values()))*256)),256) for d in G_edges]\n",
    "    color_list = [np.multiply(cmap(int(float(edge_to_mapField[d])/np.max(list(edge_to_mapField.values()))*color_to_mult+color_to_add)),256) for d in G_edges]\n",
    "    color_list = [(int(c[0]),int(c[1]),int(c[2]),alpha) for c in color_list]\n",
    "    \n",
    "    edge_to_color = dict(zip(list(G_edges),['rgba'+str(c) for c in color_list]))\n",
    "    return edge_to_color\n"
   ]
  },
  {
   "cell_type": "markdown",
   "metadata": {},
   "source": [
    "Define function to convert visJS text colors to regular plt colot tuples"
   ]
  },
  {
   "cell_type": "code",
   "execution_count": 5,
   "metadata": {},
   "outputs": [],
   "source": [
    "def color_str_to_tuple(color_str):\n",
    "    color_str = color_str.replace('rgba','')\n",
    "    color_tuple_raw = literal_eval(color_str)\n",
    "    color_tuple = [x / 256.0 for x in color_tuple_raw[:3]]\n",
    "    color_tuple.append(color_tuple_raw[3])\n",
    "    return color_tuple"
   ]
  },
  {
   "cell_type": "markdown",
   "metadata": {},
   "source": [
    "Convert between visJS and matplotlib symbol names"
   ]
  },
  {
   "cell_type": "code",
   "execution_count": 6,
   "metadata": {},
   "outputs": [],
   "source": [
    "visJS_to_mpl_symbol={\n",
    "'dot':'o',\n",
    "'square':'s',\n",
    "'triangleDown':'v',\n",
    "'triangle':'^',\n",
    "'diamond':'D',\n",
    "'star':'*'\n",
    "}"
   ]
  },
  {
   "cell_type": "markdown",
   "metadata": {},
   "source": [
    "#### Read in human readable names, create usable dicts / symbols of them"
   ]
  },
  {
   "cell_type": "code",
   "execution_count": 7,
   "metadata": {},
   "outputs": [],
   "source": [
    "df_org = pd.read_csv(orgs_path, dtype={\n",
    "'ORGANIZATIONAL_UNIT': int,\n",
    "'SCHOOL_NAME': object,\n",
    "'ORG_DISPLAY_NAME': object\n",
    "})\n",
    "df_org_index = df_org.set_index('ORGANIZATIONAL_UNIT')\n",
    "\n",
    "df_org_names = df_org_index[['ORG_DISPLAY_NAME']]\n",
    "org_names = df_org_names.to_dict()['ORG_DISPLAY_NAME']\n",
    "\n",
    "df_school_names = df_org_index[['SCHOOL_NAME']]\n",
    "school_names = df_school_names.to_dict()['SCHOOL_NAME']\n",
    "\n",
    "# Autogenerate\n",
    "#school_names_list = list(df_org_index['SCHOOL_NAME'].unique())\n",
    "#symbol_list = [\"dot\", \"diamond\", \"star\", \"triangle\", \"triangleDown\", \"square\"]\n",
    "#school_symbols = {k: v for k, v in zip(school_names_list, cycle(symbol_list))}\n",
    "\n",
    "# just hard code to group up rarer ones\n",
    "school_symbols={\n",
    " 'Trinity College of Arts & Sciences': 'dot',\n",
    " 'Pratt School of Engineering': 'square',\n",
    " 'School of Medicine': 'triangleDown',\n",
    " 'School of Nursing': 'triangle',\n",
    " 'Nicholas School of the Environment': 'diamond',\n",
    " \"Institutes and Provost's Academic Units\": 'star',\n",
    " 'Sanford School of Public Policy': 'star',\n",
    " 'Divinity School': 'star',\n",
    " 'Duke Law School': 'star',\n",
    " 'Fuqua School of Business': 'star'\n",
    "}"
   ]
  },
  {
   "cell_type": "code",
   "execution_count": 8,
   "metadata": {},
   "outputs": [
    {
     "data": {
      "image/png": "[encoded data removed]",
      "text/plain": [
       "<matplotlib.figure.Figure at 0x7fc42153ad50>"
      ]
     },
     "metadata": {},
     "output_type": "display_data"
    }
   ],
   "source": [
    "plt.figure(figsize=(9, 4), dpi=120, facecolor='w', edgecolor='k')\n",
    "plt.axis(\"off\")\n",
    "\n",
    "leg_objects = []\n",
    "for key, value in sorted(school_symbols.items(), key=operator.itemgetter(1)):\n",
    "    leg_objects.append(plt.Line2D([0],[0],ls='None',marker=visJS_to_mpl_symbol[value],ms=7.0,label=key,c='black'))\n",
    "\n",
    "leg = plt.legend(leg_objects, [ob.get_label() for ob in leg_objects], fontsize='large', borderaxespad=0.0)\n",
    "leg.get_frame().set_edgecolor('white')\n",
    "leg.get_frame().set_facecolor('white')\n",
    "plt.show()"
   ]
  },
  {
   "cell_type": "markdown",
   "metadata": {},
   "source": [
    "#### Read in edges from csv"
   ]
  },
  {
   "cell_type": "code",
   "execution_count": null,
   "metadata": {},
   "outputs": [],
   "source": [
    "if debug:\n",
    "    if(my_nrows is not None): print \"Reading first %d rows of %s\" % (my_nrows, edges_path)\n",
    "    else: print \"Reading all rows of %s\" % (edges_path)\n",
    "# need to specify dtypes manually when reading many rows...\n",
    "# otherwise pandas wants to try to load all the rows into memory before inferring the dtype and you get a warning\n",
    "df_edges = pd.read_csv(edges_path, dtype={\n",
    "'Date': object,\n",
    "'n1': int,\n",
    "'n2': int\n",
    "} , nrows=my_nrows)"
   ]
  },
  {
   "cell_type": "markdown",
   "metadata": {},
   "source": [
    "#### Build graph G up explicitly, edge by edge. This way we can get the weights correct"
   ]
  },
  {
   "cell_type": "code",
   "execution_count": null,
   "metadata": {},
   "outputs": [],
   "source": [
    "G = nx.Graph()\n",
    "default_weight = 1.0\n",
    "#default_weight = 1.0 / float(len(df_edges.index))\n",
    "for index, row in df_edges.iterrows():\n",
    "    n1 = row['n1']\n",
    "    n2 = row['n2']\n",
    "    if G.has_edge(n1,n2):\n",
    "        G[n1][n2]['weight'] += default_weight\n",
    "    else:\n",
    "        G.add_edge(n1,n2, weight=default_weight)"
   ]
  },
  {
   "cell_type": "markdown",
   "metadata": {},
   "source": [
    "### Create positions using the Fruchterman-Reingold force-directed / spring algorithm"
   ]
  },
  {
   "cell_type": "code",
   "execution_count": null,
   "metadata": {},
   "outputs": [],
   "source": [
    "spring_pos = nx.spring_layout(G,k=4/math.sqrt(nx.number_of_nodes(G))) # 1/sqrt(n) is the default spacing par"
   ]
  },
  {
   "cell_type": "markdown",
   "metadata": {},
   "source": [
    "### Create partitions / communities using the Louvain Method"
   ]
  },
  {
   "cell_type": "code",
   "execution_count": null,
   "metadata": {},
   "outputs": [],
   "source": [
    "parts = community.best_partition(G, weight='weight')\n",
    "nx.set_node_attributes(G, 'parts', parts) "
   ]
  },
  {
   "cell_type": "markdown",
   "metadata": {},
   "source": [
    "### Draw interactive graph!"
   ]
  },
  {
   "cell_type": "code",
   "execution_count": null,
   "metadata": {},
   "outputs": [],
   "source": [
    "nodes = G.nodes()\n",
    "# node_to_color = visJS_module.return_node_to_color(G,field_to_map='parts',cmap=plt.get_cmap(\"jet\"))\n",
    "node_to_color = my_node_to_color(G,field_to_map='parts')\n",
    "\n",
    "nodes_dict = [{\"id\":n,\n",
    "               \"title\":(\"%s - %s\" % (org_names[n],school_names[n])),\n",
    "               #\"title\":org_names[n],\n",
    "              \"x\":spring_pos[n][0]*1000,\n",
    "              \"y\":spring_pos[n][1]*1000,\n",
    "              #\"color\":\"black\",\n",
    "              \"color\":node_to_color[n], \n",
    "               \"node_shape\":school_symbols[school_names[n]]\n",
    "              } for n in nodes]\n",
    "node_map = dict(zip(nodes,range(len(nodes)))) # map to indices for source/target in edges"
   ]
  },
  {
   "cell_type": "code",
   "execution_count": null,
   "metadata": {},
   "outputs": [],
   "source": [
    "edges_list = list(G.edges())\n",
    "# edge_to_color = visJS_module.return_edge_to_color(G,field_to_map='weight', cmap=plt.cm.Greys,alpha = 1,color_vals_transform='log')\n",
    "edge_to_color = my_edge_to_color(G,field_to_map='weight',cmap=plt.cm.Greys,alpha = 1,color_vals_transform='log',color_max_frac = 1.0,color_min_frac = 0.15)\n",
    "edges_dict = [{\"source\":node_map[edges_list[i][0]],\n",
    "               \"target\":node_map[edges_list[i][1]],\n",
    "               \"title\":(\"%s -- %s\" % (org_names[edges_list[i][0]],org_names[edges_list[i][1]])),\n",
    "               \"color\":edge_to_color[edges_list[i]] \n",
    "              }for i in range(len(edges_list))]"
   ]
  },
  {
   "cell_type": "code",
   "execution_count": null,
   "metadata": {},
   "outputs": [],
   "source": [
    "visJS_module.visjs_network(nodes_dict,edges_dict,\n",
    "                           node_size_multiplier=8,node_font_size=0,\n",
    "                           edge_width=9,\n",
    "                           edge_title_field=\"title\",\n",
    "                           tooltip_delay = 0,\n",
    "                           graph_width = 900,\n",
    "                           graph_height = 700,\n",
    "                           graph_id = 0,\n",
    "                           config_enabled=False)"
   ]
  },
  {
   "cell_type": "markdown",
   "metadata": {},
   "source": [
    "### List the members of the communities"
   ]
  },
  {
   "cell_type": "code",
   "execution_count": null,
   "metadata": {},
   "outputs": [],
   "source": [
    "df_communities = pd.DataFrame(parts.items(), columns=['ORGANIZATIONAL_UNIT', 'Community'])"
   ]
  },
  {
   "cell_type": "code",
   "execution_count": null,
   "metadata": {},
   "outputs": [],
   "source": [
    "## Pandas dataframe way\n",
    "#from collections import defaultdict\n",
    "#columns = defaultdict(list)\n",
    "#for community in df_communities.Community.unique():\n",
    "#        df_community = df_communities[df_communities['Community']==community]\n",
    "#        for node in list(df_community['ORGANIZATIONAL_UNIT']):\n",
    "#            columns[community].append(node)\n",
    "#print columns\n",
    "#df_community_lists = pd.DataFrame(dict([(col_name,pd.Series(values)) for col_name,values in columns.items() ]))\n",
    "#df_community_lists"
   ]
  },
  {
   "cell_type": "code",
   "execution_count": null,
   "metadata": {},
   "outputs": [],
   "source": [
    "## Raw text\n",
    "#for community in df_communities.Community.unique():\n",
    "#        print community\n",
    "#        df_community = df_communities[df_communities['Community']==community]\n",
    "#        for n in list(df_community['ORGANIZATIONAL_UNIT']):\n",
    "#            print \"%s - %s\" % (org_names[n],school_names[n])"
   ]
  },
  {
   "cell_type": "code",
   "execution_count": null,
   "metadata": {},
   "outputs": [],
   "source": [
    "## As matplotlib tables, with color coded headers\n",
    "for community in df_communities.Community.unique():\n",
    "    df_community = df_communities[df_communities['Community']==community]\n",
    "    cell_text = []\n",
    "    first_n = -1\n",
    "    for n in list(df_community['ORGANIZATIONAL_UNIT']):\n",
    "        # cell_text.append([(\"%s - %s\" % (org_names[n],school_names[n]))])\n",
    "        cell_text.append([org_names[n], school_names[n]])\n",
    "        if first_n == -1: first_n = n\n",
    "\n",
    "    cell_text.sort(key = operator.itemgetter(1, 0))\n",
    "\n",
    "    color_tuple = color_str_to_tuple(node_to_color[first_n])\n",
    "\n",
    "    plt.axis('off')\n",
    "    the_table = plt.table(cellText=cell_text,colLabels=[(\"Group %d\" % community),\"School\"],\n",
    "              colColours=[color_tuple,color_tuple],\n",
    "              loc='center')\n",
    "    the_table.scale(3,3)\n",
    "    the_table.auto_set_font_size(False)\n",
    "    the_table.set_fontsize(12)\n",
    "    plt.show()"
   ]
  },
  {
   "cell_type": "code",
   "execution_count": null,
   "metadata": {
    "scrolled": true
   },
   "outputs": [],
   "source": [
    "#interact slider demo for later\n",
    "def f(x):\n",
    "    return x\n",
    "interact(f, x=10);\n"
   ]
  },
  {
   "cell_type": "code",
   "execution_count": null,
   "metadata": {},
   "outputs": [],
   "source": [
    "plt.figure(figsize=(9, 9), dpi=120, facecolor='w', edgecolor='k')\n",
    "plt.axis(\"off\")\n",
    "nx.draw_networkx(G,\n",
    "                 pos=spring_pos,\n",
    "                 node_color=[color_str_to_tuple(value) for key, value in node_to_color.iteritems()],\n",
    "                 node_size=35,\n",
    "                 with_labels=False,\n",
    "                 width=2.5,\n",
    "                 edge_color=[color_str_to_tuple(value) for key, value in edge_to_color.iteritems()]\n",
    "                )\n",
    "plt.show()"
   ]
  },
  {
   "cell_type": "markdown",
   "metadata": {},
   "source": [
    "### Stats of graph"
   ]
  },
  {
   "cell_type": "code",
   "execution_count": null,
   "metadata": {},
   "outputs": [],
   "source": [
    "print nx.info(G)\n",
    "print \"Density: %.4f\" % (nx.density(G))\n",
    "print \"Triadic closure: %.4f\" % (nx.transitivity(G))\n",
    "print \"Diameter: %d\" % (nx.diameter(G))"
   ]
  },
  {
   "cell_type": "markdown",
   "metadata": {},
   "source": [
    "### Centrality"
   ]
  },
  {
   "cell_type": "code",
   "execution_count": null,
   "metadata": {},
   "outputs": [],
   "source": [
    "degree_dict = G.degree(G.nodes())\n",
    "#nx.set_node_attributes(G, 'degree', degree_dict)\n",
    "sorted_degree = sorted(degree_dict.items(), key=itemgetter(1), reverse=True)\n",
    "print \"Top 10% of nodes by degree:\"\n",
    "for d in sorted_degree[:int(0.1*len(sorted_degree))]:\n",
    "    print \"%d, %s - %s\" % (d[1], org_names[d[0]], school_names[d[0]])"
   ]
  },
  {
   "cell_type": "code",
   "execution_count": null,
   "metadata": {},
   "outputs": [],
   "source": [
    "eigenvector_dict = nx.eigenvector_centrality(G)\n",
    "#nx.set_node_attributes(G, 'eigenvector', eigenvector_dict)\n",
    "sorted_eigenvector = sorted(eigenvector_dict.items(), key=itemgetter(1), reverse=True)\n",
    "print \"Top 10% of nodes by eigenvector:\"\n",
    "for d in sorted_eigenvector[:int(0.1*len(sorted_eigenvector))]:\n",
    "    print \"%.4f, %s - %s\" % (d[1], org_names[d[0]], school_names[d[0]])"
   ]
  },
  {
   "cell_type": "code",
   "execution_count": null,
   "metadata": {},
   "outputs": [],
   "source": [
    "betweenness_dict = nx.betweenness_centrality(G)\n",
    "#nx.set_node_attributes(G, 'betweenness', betweenness_dict)\n",
    "sorted_betweenness = sorted(betweenness_dict.items(), key=itemgetter(1), reverse=True)\n",
    "print \"Top 10% of nodes by betweenness:\"\n",
    "for d in sorted_betweenness[:int(0.1*len(sorted_betweenness))]:\n",
    "    print \"%.4f, %s - %s\" % (d[1], org_names[d[0]], school_names[d[0]])"
   ]
  },
  {
   "cell_type": "code",
   "execution_count": null,
   "metadata": {},
   "outputs": [],
   "source": [
    "frac_dict = {}\n",
    "for node in nodes:\n",
    "    edges = G.edges(node,data=True)\n",
    "    numerator = 0.0\n",
    "    denominator = 0.0\n",
    "    for edge in edges:\n",
    "        weight = edge[2]['weight']\n",
    "        denominator += weight\n",
    "        if edge[0] != edge[1]:\n",
    "            numerator += weight\n",
    "    frac_dict[node] = numerator / denominator\n",
    "\n",
    "sorted_frac = sorted(frac_dict.items(), key=itemgetter(1), reverse=True)\n",
    "print \"nodes by frac:\"\n",
    "for d in sorted_frac[:]:\n",
    "        print \"%.6f, %s - %s\" % (d[1], org_names[d[0]], school_names[d[0]])"
   ]
  },
  {
   "cell_type": "code",
   "execution_count": null,
   "metadata": {},
   "outputs": [],
   "source": []
  }
 ],
 "metadata": {
  "kernelspec": {
   "display_name": "Python 2",
   "language": "python",
   "name": "python2"
  },
  "language_info": {
   "codemirror_mode": {
    "name": "ipython",
    "version": 2
   },
   "file_extension": ".py",
   "mimetype": "text/x-python",
   "name": "python",
   "nbconvert_exporter": "python",
   "pygments_lexer": "ipython2",
   "version": "2.7.14"
  }
 },
 "nbformat": 4,
 "nbformat_minor": 2
}
